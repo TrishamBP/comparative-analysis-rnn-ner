{
  "cells": [
    {
      "cell_type": "code",
      "execution_count": 1,
      "metadata": {
        "colab": {
          "base_uri": "https://localhost:8080/"
        },
        "id": "krKaGpn58Pk8",
        "outputId": "29251cbd-7977-4f62-e556-48237bbc7b16"
      },
      "outputs": [
        {
          "output_type": "stream",
          "name": "stdout",
          "text": [
            "--2024-07-20 00:57:27--  https://raw.githubusercontent.com/mrdbourke/tensorflow-deep-learning/main/extras/helper_functions.py\n",
            "Resolving raw.githubusercontent.com (raw.githubusercontent.com)... 185.199.108.133, 185.199.109.133, 185.199.110.133, ...\n",
            "Connecting to raw.githubusercontent.com (raw.githubusercontent.com)|185.199.108.133|:443... connected.\n",
            "HTTP request sent, awaiting response... 200 OK\n",
            "Length: 10246 (10K) [text/plain]\n",
            "Saving to: ‘helper_functions.py’\n",
            "\n",
            "\rhelper_functions.py   0%[                    ]       0  --.-KB/s               \rhelper_functions.py 100%[===================>]  10.01K  --.-KB/s    in 0s      \n",
            "\n",
            "2024-07-20 00:57:27 (69.2 MB/s) - ‘helper_functions.py’ saved [10246/10246]\n",
            "\n"
          ]
        }
      ],
      "source": [
        "!wget https://raw.githubusercontent.com/mrdbourke/tensorflow-deep-learning/main/extras/helper_functions.py"
      ]
    },
    {
      "cell_type": "markdown",
      "metadata": {
        "id": "ci0sYyY3M-Uc"
      },
      "source": [
        "## Loading and Pre-processing the data.\n",
        "Downloads and processes the CoNLL-2003 dataset for Named Entity Recognition (NER).\n",
        "1. Downloads GloVe word embeddings (100-dimensional).\n",
        "2. Creates a vocabulary map from tokens to indices.\n",
        "3. Processes the CoNLL files to create labeled windows of tokens.\n",
        "4. Generates index files for each CoNLL dataset file.\n",
        "5. Creates special tokens and adds them to the vocabulary.\n",
        "6. Exports the vocabulary and label mappings to separate files.\n",
        "\n",
        "The script uses a sliding window approach to create context for each token in the dataset. It handles file downloading, data extraction, and preprocessing to prepare the data for use in NER tasks. The output includes indexed versions of the CoNLL files, a vocabulary map, and a label map, which can be used for training and evaluating NER models.\n"
      ]
    },
    {
      "cell_type": "code",
      "execution_count": 2,
      "metadata": {
        "colab": {
          "base_uri": "https://localhost:8080/"
        },
        "id": "oVkjINYMMsH5",
        "outputId": "d96a2cab-0139-41c2-a8cc-e407c61cfbd5"
      },
      "outputs": [
        {
          "output_type": "stream",
          "name": "stdout",
          "text": [
            "Downloaded conll2003/eng.testa\n",
            "Downloaded conll2003/eng.testb\n",
            "Downloaded conll2003/eng.train\n",
            "Downloading GloVe embeddings...\n",
            "Downloaded glove.6B.zip\n",
            "Extracting GloVe embeddings...\n",
            "Creating token -> index map...\n",
            "Loaded 400000 tokens to vocab\n",
            "Processing eng.testa\n",
            "Processing eng.testb\n",
            "Processing eng.train\n",
            "Processing complete!\n"
          ]
        }
      ],
      "source": [
        "import gzip\n",
        "import os\n",
        "import urllib.request\n",
        "import zipfile\n",
        "import numpy as np\n",
        "\n",
        "# Define constants\n",
        "window = 2\n",
        "vocab = {}\n",
        "labels = {}\n",
        "w2v_file = 'glove.6B.100d.txt'\n",
        "vector_out_file = 'glove.6B.100d.index'\n",
        "data_dir = 'conll2003/'\n",
        "vocab_map_file = 'vocab-map.index'\n",
        "label_map_file = 'label-map.index'\n",
        "in_files = ['eng.testa', 'eng.testb', 'eng.train']\n",
        "\n",
        "# Download files\n",
        "def download_file(url, filename):\n",
        "    if not os.path.exists(filename):\n",
        "        urllib.request.urlretrieve(url, filename)\n",
        "        print(f\"Downloaded {filename}\")\n",
        "    else:\n",
        "        print(f\"{filename} already exists\")\n",
        "\n",
        "# Create directories if they don't exist\n",
        "os.makedirs(data_dir, exist_ok=True)\n",
        "\n",
        "# Download CoNLL-2003 dataset\n",
        "for file in in_files:\n",
        "    download_file(f\"https://raw.githubusercontent.com/synalp/NER/master/corpus/CoNLL-2003/{file}\", os.path.join(data_dir, file))\n",
        "\n",
        "# Download GloVe embeddings\n",
        "glove_zip = 'glove.6B.zip'\n",
        "if not os.path.exists(glove_zip):\n",
        "    print(\"Downloading GloVe embeddings...\")\n",
        "    download_file(\"http://nlp.stanford.edu/data/glove.6B.zip\", glove_zip)\n",
        "\n",
        "    print(\"Extracting GloVe embeddings...\")\n",
        "    with zipfile.ZipFile(glove_zip, 'r') as zip_ref:\n",
        "        zip_ref.extract('glove.6B.100d.txt')\n",
        "\n",
        "# Create token -> index map\n",
        "print(\"Creating token -> index map...\")\n",
        "out = open(vector_out_file, 'w')\n",
        "with open(w2v_file, 'r', encoding='utf-8') as f:\n",
        "    for line in f:\n",
        "        parts = line.rstrip().split(' ')\n",
        "        token = parts[0]\n",
        "        vocab[token] = str(len(vocab) + 1)\n",
        "        vector = parts[1:]\n",
        "        out.write(vocab[token] + '\\t' + ' '.join(vector) + '\\n')\n",
        "print(f'Loaded {len(vocab)} tokens to vocab')\n",
        "out.close()\n",
        "\n",
        "# Add special tokens\n",
        "special_tokens = ['<PAD>', '<UNK>', '<S>', '</S>']\n",
        "for token in special_tokens:\n",
        "    if token not in vocab:\n",
        "        vocab[token] = str(len(vocab) + 1)\n",
        "        # Generate a random vector for special tokens\n",
        "        vector = ' '.join([str(x) for x in np.random.uniform(-0.25, 0.25, 100)])\n",
        "        with open(vector_out_file, 'a') as f:\n",
        "            f.write(f\"{vocab[token]}\\t{vector}\\n\")\n",
        "\n",
        "# Process CoNLL files\n",
        "for in_file in in_files:\n",
        "    print(f'Processing {in_file}')\n",
        "    out_file = os.path.join(data_dir, in_file + '.index')\n",
        "\n",
        "    tokens = []\n",
        "    chunks = []\n",
        "    ner = []\n",
        "    labeled_windows = []\n",
        "\n",
        "    with open(os.path.join(data_dir, in_file), 'r') as file:\n",
        "        for line in file:\n",
        "            line = line.strip()\n",
        "            if not line.startswith('-DOCSTART-'):\n",
        "                if line != '':\n",
        "                    parts = line.split(' ')\n",
        "                    tokens.append(parts[0])\n",
        "                    chunks.append(parts[2])\n",
        "                    if parts[3] not in labels:\n",
        "                        labels[parts[3]] = str(len(labels) + 1)\n",
        "                    ner.append(labels[parts[3]])\n",
        "                # new sentence\n",
        "                else:\n",
        "                    # process the last sentence into labeled windows\n",
        "                    for i in range(0, len(tokens)):\n",
        "                        # each line starts with label \\t\n",
        "                        current_window = [ner[i] + '\\t']\n",
        "                        for j in range(i - window, i + window + 1):\n",
        "                            if j < -1 or j > len(tokens):\n",
        "                                token = '<PAD>'\n",
        "                            elif j == -1:\n",
        "                                token = '<S>'\n",
        "                            elif j == len(tokens):\n",
        "                                token = '</S>'\n",
        "                            else:\n",
        "                                token = tokens[j]\n",
        "                            token_idx = vocab.get(token, vocab.get('<UNK>', '0'))\n",
        "                            current_window.append(token_idx)\n",
        "                        labeled_windows.append(' '.join(current_window))\n",
        "\n",
        "                    tokens = []\n",
        "                    chunks = []\n",
        "                    ner = []\n",
        "\n",
        "    # write the windows to file\n",
        "    with open(out_file, 'w') as out:\n",
        "        for w in labeled_windows:\n",
        "            out.write(w + '\\n')\n",
        "\n",
        "# export maps\n",
        "with open(vocab_map_file, 'w') as out:\n",
        "    for t, i in vocab.items():\n",
        "        out.write(f\"{t}\\t{i}\\n\")\n",
        "\n",
        "with open(label_map_file, 'w') as out:\n",
        "    for l, i in labels.items():\n",
        "        out.write(f\"{l}\\t{i}\\n\")\n",
        "\n",
        "print(\"Processing complete!\")"
      ]
    },
    {
      "cell_type": "code",
      "execution_count": 3,
      "metadata": {
        "id": "30zajrkW7X-i"
      },
      "outputs": [],
      "source": [
        "# Function to evaluate: accuracy, precision, recall, f1-score\n",
        "from sklearn.metrics import accuracy_score, precision_recall_fscore_support\n",
        "\n",
        "def calculate_results(y_true, y_pred):\n",
        "  \"\"\"\n",
        "  Calculates model accuracy, precision, recall and f1 score of a binary classification model.\n",
        "\n",
        "  Args:\n",
        "  -----\n",
        "  y_true = true labels in the form of a 1D array\n",
        "  y_pred = predicted labels in the form of a 1D array\n",
        "\n",
        "  Returns a dictionary of accuracy, precision, recall, f1-score.\n",
        "  \"\"\"\n",
        "  # Calculate model accuracy\n",
        "  model_accuracy = accuracy_score(y_true, y_pred) * 100\n",
        "  # Calculate model precision, recall and f1 score using \"weighted\" average\n",
        "  model_precision, model_recall, model_f1, _ = precision_recall_fscore_support(y_true, y_pred, average=\"weighted\")\n",
        "  model_results = {\"accuracy\": model_accuracy,\n",
        "                  \"precision\": model_precision,\n",
        "                  \"recall\": model_recall,\n",
        "                  \"f1\": model_f1}\n",
        "  return model_results"
      ]
    },
    {
      "cell_type": "markdown",
      "metadata": {
        "id": "T1fZ8vH444G6"
      },
      "source": [
        "1. Naive-Bayes TF-IDF (Baseline model)"
      ]
    },
    {
      "cell_type": "code",
      "execution_count": 4,
      "metadata": {
        "colab": {
          "base_uri": "https://localhost:8080/"
        },
        "id": "JN9FDwOj6dFd",
        "outputId": "f66f2589-e9d2-43a9-c8d3-16755f1343a9"
      },
      "outputs": [
        {
          "output_type": "stream",
          "name": "stdout",
          "text": [
            "Loading processed data...\n",
            "Converting data to lists...\n",
            "Data preparation complete!\n",
            "Saving split data...\n",
            "Data splits saved. Ready for model building!\n"
          ]
        }
      ],
      "source": [
        "import numpy as np\n",
        "from sklearn.model_selection import train_test_split\n",
        "import pickle\n",
        "\n",
        "# Load the processed data\n",
        "def load_data(file_path):\n",
        "    data = []\n",
        "    with open(file_path, 'r') as f:\n",
        "        for line in f:\n",
        "            parts = line.strip().split('\\t')\n",
        "            label = parts[0]\n",
        "            features = parts[1].split()\n",
        "            data.append((label, ' '.join(features)))  # Join features into a single string\n",
        "    return data\n",
        "\n",
        "print(\"Loading processed data...\")\n",
        "train_data = load_data('conll2003/eng.train.index')\n",
        "testa_data = load_data('conll2003/eng.testa.index')\n",
        "testb_data = load_data('conll2003/eng.testb.index')\n",
        "\n",
        "# Combine train and testa for creating train and validation sets\n",
        "combined_data = train_data + testa_data\n",
        "\n",
        "# Split combined data into train and validation sets\n",
        "train, val = train_test_split(combined_data, test_size=0.1, random_state=42)\n",
        "\n",
        "# Use testb as a held-out test set\n",
        "test = testb_data\n",
        "\n",
        "# Convert to lists of strings and labels\n",
        "def convert_to_lists(data):\n",
        "    labels = [item[0] for item in data]\n",
        "    features = [item[1] for item in data]\n",
        "    return features, labels\n",
        "\n",
        "print(\"Converting data to lists...\")\n",
        "X_train, y_train = convert_to_lists(train)\n",
        "X_val, y_val = convert_to_lists(val)\n",
        "X_test, y_test = convert_to_lists(test)\n",
        "\n",
        "print(\"Data preparation complete!\")\n",
        "\n",
        "# Save the splits\n",
        "def save_data(data, filename):\n",
        "    with open(filename, 'wb') as f:\n",
        "        pickle.dump(data, f)\n",
        "\n",
        "print(\"Saving split data...\")\n",
        "save_data((X_train, y_train), 'train_data.pkl')\n",
        "save_data((X_val, y_val), 'val_data.pkl')\n",
        "save_data((X_test, y_test), 'test_data.pkl')\n",
        "\n",
        "print(\"Data splits saved. Ready for model building!\")"
      ]
    },
    {
      "cell_type": "code",
      "execution_count": 5,
      "metadata": {
        "colab": {
          "base_uri": "https://localhost:8080/"
        },
        "id": "pRTX1-Cw5Bl2",
        "outputId": "d5afa7df-c7c7-45e1-c99f-6aa0030c4215"
      },
      "outputs": [
        {
          "output_type": "stream",
          "name": "stdout",
          "text": [
            "Training the model...\n",
            "Evaluating on validation set...\n"
          ]
        },
        {
          "output_type": "stream",
          "name": "stderr",
          "text": [
            "/usr/local/lib/python3.10/dist-packages/sklearn/metrics/_classification.py:1344: UndefinedMetricWarning: Precision and F-score are ill-defined and being set to 0.0 in labels with no predicted samples. Use `zero_division` parameter to control this behavior.\n",
            "  _warn_prf(average, modifier, msg_start, len(result))\n",
            "/usr/local/lib/python3.10/dist-packages/sklearn/metrics/_classification.py:1344: UndefinedMetricWarning: Precision and F-score are ill-defined and being set to 0.0 in labels with no predicted samples. Use `zero_division` parameter to control this behavior.\n",
            "  _warn_prf(average, modifier, msg_start, len(result))\n",
            "/usr/local/lib/python3.10/dist-packages/sklearn/metrics/_classification.py:1344: UndefinedMetricWarning: Precision and F-score are ill-defined and being set to 0.0 in labels with no predicted samples. Use `zero_division` parameter to control this behavior.\n",
            "  _warn_prf(average, modifier, msg_start, len(result))\n"
          ]
        },
        {
          "output_type": "stream",
          "name": "stdout",
          "text": [
            "              precision    recall  f1-score   support\n",
            "\n",
            "           1       0.84      1.00      0.91     21276\n",
            "           2       0.52      0.01      0.02      1246\n",
            "           3       0.00      0.00      0.00      1026\n",
            "           4       1.00      0.01      0.02       591\n",
            "           5       0.65      0.09      0.16      1351\n",
            "           6       0.00      0.00      0.00         6\n",
            "           7       0.00      0.00      0.00         2\n",
            "           8       0.00      0.00      0.00         1\n",
            "\n",
            "    accuracy                           0.84     25499\n",
            "   macro avg       0.38      0.14      0.14     25499\n",
            "weighted avg       0.78      0.84      0.77     25499\n",
            "\n",
            "Evaluating on test set...\n"
          ]
        },
        {
          "output_type": "stream",
          "name": "stderr",
          "text": [
            "/usr/local/lib/python3.10/dist-packages/sklearn/metrics/_classification.py:1344: UndefinedMetricWarning: Precision and F-score are ill-defined and being set to 0.0 in labels with no predicted samples. Use `zero_division` parameter to control this behavior.\n",
            "  _warn_prf(average, modifier, msg_start, len(result))\n",
            "/usr/local/lib/python3.10/dist-packages/sklearn/metrics/_classification.py:1344: UndefinedMetricWarning: Precision and F-score are ill-defined and being set to 0.0 in labels with no predicted samples. Use `zero_division` parameter to control this behavior.\n",
            "  _warn_prf(average, modifier, msg_start, len(result))\n"
          ]
        },
        {
          "output_type": "stream",
          "name": "stdout",
          "text": [
            "              precision    recall  f1-score   support\n",
            "\n",
            "           1       0.83      1.00      0.91     38323\n",
            "           2       0.67      0.00      0.01      2491\n",
            "           3       0.00      0.00      0.00      1919\n",
            "           4       0.00      0.00      0.00       909\n",
            "           5       0.61      0.09      0.15      2773\n",
            "           6       0.00      0.00      0.00         9\n",
            "           7       0.00      0.00      0.00         5\n",
            "           8       0.00      0.00      0.00         6\n",
            "\n",
            "    accuracy                           0.83     46435\n",
            "   macro avg       0.26      0.14      0.13     46435\n",
            "weighted avg       0.76      0.83      0.76     46435\n",
            "\n",
            "Model training and evaluation complete!\n"
          ]
        },
        {
          "output_type": "stream",
          "name": "stderr",
          "text": [
            "/usr/local/lib/python3.10/dist-packages/sklearn/metrics/_classification.py:1344: UndefinedMetricWarning: Precision and F-score are ill-defined and being set to 0.0 in labels with no predicted samples. Use `zero_division` parameter to control this behavior.\n",
            "  _warn_prf(average, modifier, msg_start, len(result))\n"
          ]
        }
      ],
      "source": [
        "from sklearn.feature_extraction.text import TfidfVectorizer\n",
        "from sklearn.naive_bayes import MultinomialNB\n",
        "from sklearn.pipeline import Pipeline\n",
        "from sklearn.metrics import classification_report\n",
        "import pickle\n",
        "\n",
        "# Load the data\n",
        "with open('train_data.pkl', 'rb') as f:\n",
        "    X_train, y_train = pickle.load(f)\n",
        "with open('val_data.pkl', 'rb') as f:\n",
        "    X_val, y_val = pickle.load(f)\n",
        "with open('test_data.pkl', 'rb') as f:\n",
        "    X_test, y_test = pickle.load(f)\n",
        "\n",
        "# Define the pipeline\n",
        "pipeline = Pipeline([\n",
        "    ('tfidf', TfidfVectorizer()),\n",
        "    ('nb', MultinomialNB())\n",
        "])\n",
        "\n",
        "# Train the model\n",
        "print(\"Training the model...\")\n",
        "pipeline.fit(X_train, y_train)\n",
        "\n",
        "# Evaluate on validation set\n",
        "print(\"Evaluating on validation set...\")\n",
        "y_pred = pipeline.predict(X_val)\n",
        "print(classification_report(y_val, y_pred))\n",
        "\n",
        "# Evaluate on test set\n",
        "print(\"Evaluating on test set...\")\n",
        "y_pred = pipeline.predict(X_test)\n",
        "print(classification_report(y_test, y_pred))\n",
        "\n",
        "print(\"Model training and evaluation complete!\")"
      ]
    },
    {
      "cell_type": "code",
      "execution_count": 6,
      "metadata": {
        "colab": {
          "base_uri": "https://localhost:8080/"
        },
        "id": "SKJPATVP6rTN",
        "outputId": "02f14226-ceb9-4729-cbd9-d6648755c06a"
      },
      "outputs": [
        {
          "output_type": "stream",
          "name": "stdout",
          "text": [
            "Baseline score: 0.8276084849790029\n"
          ]
        },
        {
          "output_type": "stream",
          "name": "stderr",
          "text": [
            "/usr/local/lib/python3.10/dist-packages/sklearn/metrics/_classification.py:1344: UndefinedMetricWarning: Precision and F-score are ill-defined and being set to 0.0 in labels with no predicted samples. Use `zero_division` parameter to control this behavior.\n",
            "  _warn_prf(average, modifier, msg_start, len(result))\n"
          ]
        },
        {
          "output_type": "execute_result",
          "data": {
            "text/plain": [
              "{'accuracy': 82.76084849790028,\n",
              " 'precision': 0.7569229276978924,\n",
              " 'recall': 0.8276084849790029,\n",
              " 'f1': 0.7564888563115133}"
            ]
          },
          "metadata": {},
          "execution_count": 6
        }
      ],
      "source": [
        "baseline_score = pipeline.score(X_test, y_test)\n",
        "print(\"Baseline score:\", baseline_score)\n",
        "\n",
        "calculate_results(y_test, y_pred)"
      ]
    },
    {
      "cell_type": "markdown",
      "metadata": {
        "id": "H03j-j7twAkc"
      },
      "source": [
        "## Splitting the data into training, test and validation sets for Neural Networks"
      ]
    },
    {
      "cell_type": "code",
      "execution_count": 7,
      "metadata": {
        "colab": {
          "base_uri": "https://localhost:8080/"
        },
        "id": "dY9ZEQlKNVwu",
        "outputId": "f9b29119-f815-4b23-a97f-782918b5241c"
      },
      "outputs": [
        {
          "output_type": "stream",
          "name": "stdout",
          "text": [
            "Loading processed data...\n",
            "Loaded 203621 training samples\n",
            "Loaded 51362 development samples\n",
            "Loaded 46435 test samples\n",
            "Training set size: 229484\n",
            "Validation set size: 25499\n",
            "Test set size: 46435\n",
            "Converting data to numpy arrays...\n",
            "Data preparation complete!\n",
            "Saving split data...\n",
            "Data splits saved. Ready for model building!\n"
          ]
        }
      ],
      "source": [
        "import numpy as np\n",
        "from sklearn.model_selection import train_test_split\n",
        "\n",
        "# Load the processed data\n",
        "def load_data(file_path):\n",
        "    data = []\n",
        "    with open(file_path, 'r') as f:\n",
        "        for line in f:\n",
        "            parts = line.strip().split('\\t')\n",
        "            label = parts[0]\n",
        "            features = parts[1].split()\n",
        "            data.append((label, features))\n",
        "    return data\n",
        "\n",
        "print(\"Loading processed data...\")\n",
        "train_data = load_data('conll2003/eng.train.index')\n",
        "testa_data = load_data('conll2003/eng.testa.index')\n",
        "testb_data = load_data('conll2003/eng.testb.index')\n",
        "\n",
        "print(f\"Loaded {len(train_data)} training samples\")\n",
        "print(f\"Loaded {len(testa_data)} development samples\")\n",
        "print(f\"Loaded {len(testb_data)} test samples\")\n",
        "\n",
        "# Combine train and testa for creating train and validation sets\n",
        "combined_data = train_data + testa_data\n",
        "\n",
        "# Split combined data into train and validation sets\n",
        "train, val = train_test_split(combined_data, test_size=0.1, random_state=42)\n",
        "\n",
        "# Use testb as a held-out test set\n",
        "test = testb_data\n",
        "\n",
        "print(f\"Training set size: {len(train)}\")\n",
        "print(f\"Validation set size: {len(val)}\")\n",
        "print(f\"Test set size: {len(test)}\")\n",
        "\n",
        "# Convert to numpy arrays\n",
        "def convert_to_arrays(data):\n",
        "    labels = np.array([int(item[0]) for item in data])\n",
        "    features = np.array([list(map(int, item[1])) for item in data])\n",
        "    return features, labels\n",
        "\n",
        "print(\"Converting data to numpy arrays...\")\n",
        "X_train, y_train = convert_to_arrays(train)\n",
        "X_val, y_val = convert_to_arrays(val)\n",
        "X_test, y_test = convert_to_arrays(test)\n",
        "\n",
        "print(\"Data preparation complete!\")\n",
        "\n",
        "# Optional: Save the splits\n",
        "import pickle\n",
        "\n",
        "def save_data(data, filename):\n",
        "    with open(filename, 'wb') as f:\n",
        "        pickle.dump(data, f)\n",
        "\n",
        "print(\"Saving split data...\")\n",
        "save_data((X_train, y_train), 'train_data.pkl')\n",
        "save_data((X_val, y_val), 'val_data.pkl')\n",
        "save_data((X_test, y_test), 'test_data.pkl')\n",
        "\n",
        "print(\"Data splits saved. Ready for model building!\")"
      ]
    },
    {
      "cell_type": "code",
      "source": [
        "from matplotlib import pyplot as plt\n",
        "def plot_loss_curves(history):\n",
        "    \"\"\"\n",
        "    Plots training and validation loss curves.\n",
        "\n",
        "    Args:\n",
        "    -----\n",
        "    history = TensorFlow history object\n",
        "    \"\"\"\n",
        "    loss = history.history['loss']\n",
        "    val_loss = history.history['val_loss']\n",
        "\n",
        "    accuracy = history.history['accuracy']\n",
        "    val_accuracy = history.history['val_accuracy']\n",
        "\n",
        "    epochs = range(len(history.history['loss']))\n",
        "    plt.plot(epochs, loss, label='training_loss')\n",
        "    plt.plot(epochs, val_loss, label='val_loss')\n",
        "    plt.title('Loss')\n",
        "    plt.xlabel('Epochs')\n",
        "    plt.legend()\n",
        "    plt.figure()\n",
        "    plt.plot(epochs, accuracy, label='training_accuracy')\n",
        "    plt.plot(epochs, val_accuracy, label='val_accuracy')\n",
        "    plt.title('Accuracy')\n",
        "    plt.xlabel('Epochs')\n",
        "    plt.legend()\n",
        "    plt.show()\n"
      ],
      "metadata": {
        "id": "P6u0N-TnhHBe"
      },
      "execution_count": 8,
      "outputs": []
    },
    {
      "cell_type": "code",
      "source": [
        "# Load the data\n",
        "with open('train_data.pkl', 'rb') as f:\n",
        "    X_train, y_train = pickle.load(f)\n",
        "with open('val_data.pkl', 'rb') as f:\n",
        "    X_val, y_val = pickle.load(f)\n",
        "with open('test_data.pkl', 'rb') as f:\n",
        "    X_test, y_test = pickle.load(f)\n",
        "\n",
        "# Check and adjust labels if necessary\n",
        "if np.min(y_train) == 1:\n",
        "    y_train -= 1\n",
        "    y_val -= 1\n",
        "    y_test -= 1\n",
        "\n",
        "print(\"Adjusted training labels range:\", np.min(y_train), \"-\", np.max(y_train))\n",
        "print(\"Adjusted validation labels range:\", np.min(y_val), \"-\", np.max(y_val))\n",
        "print(\"Adjusted test labels range:\", np.min(y_test), \"-\", np.max(y_test))\n",
        "\n",
        "# Get the vocabulary size and number of classes\n",
        "vocab_size = np.max(X_train) + 1  # Add 1 because indices start at 0\n",
        "num_classes = len(np.unique(y_train))\n",
        "print(\"Vocabulary size:\", vocab_size)\n",
        "print(\"Number of classes:\", num_classes)"
      ],
      "metadata": {
        "colab": {
          "base_uri": "https://localhost:8080/"
        },
        "id": "oC5RP4w9qcFm",
        "outputId": "456c17ff-83a0-465e-a1fd-78f945847fc7"
      },
      "execution_count": 9,
      "outputs": [
        {
          "output_type": "stream",
          "name": "stdout",
          "text": [
            "Adjusted training labels range: 0 - 7\n",
            "Adjusted validation labels range: 0 - 7\n",
            "Adjusted test labels range: 0 - 7\n",
            "Vocabulary size: 400005\n",
            "Number of classes: 8\n"
          ]
        }
      ]
    },
    {
      "cell_type": "markdown",
      "metadata": {
        "id": "bmLtrYsSSJAR"
      },
      "source": [
        "1. Vanilla/Base RNN Model"
      ]
    },
    {
      "cell_type": "code",
      "execution_count": null,
      "metadata": {
        "colab": {
          "base_uri": "https://localhost:8080/",
          "height": 1000
        },
        "id": "3NM4K3TfTARw",
        "outputId": "a8a71390-0a72-448b-943e-644d8cb75adb"
      },
      "outputs": [
        {
          "output_type": "stream",
          "name": "stdout",
          "text": [
            "Adjusted training labels range: 0 - 7\n",
            "Adjusted validation labels range: 0 - 7\n",
            "Adjusted test labels range: 0 - 7\n",
            "Vocabulary size: 400005\n",
            "Number of classes: 8\n",
            "Saving TensorBoard log files to: model_logs/rnn/base_rnn/20240719-020159\n",
            "Epoch 1/10\n",
            "718/718 [==============================] - 1395s 2s/step - loss: 0.3763 - accuracy: 0.8675 - val_loss: 0.3116 - val_accuracy: 0.8871\n",
            "Epoch 2/10\n",
            "718/718 [==============================] - 1380s 2s/step - loss: 0.2472 - accuracy: 0.9119 - val_loss: 0.2997 - val_accuracy: 0.8941\n",
            "Epoch 3/10\n",
            "718/718 [==============================] - 1380s 2s/step - loss: 0.1871 - accuracy: 0.9369 - val_loss: 0.3024 - val_accuracy: 0.8996\n",
            "Epoch 4/10\n",
            "718/718 [==============================] - 1366s 2s/step - loss: 0.1594 - accuracy: 0.9474 - val_loss: 0.3169 - val_accuracy: 0.8977\n",
            "Epoch 5/10\n",
            "718/718 [==============================] - 1363s 2s/step - loss: 0.1454 - accuracy: 0.9508 - val_loss: 0.3278 - val_accuracy: 0.8981\n",
            "Epoch 6/10\n",
            "718/718 [==============================] - 1381s 2s/step - loss: 0.1376 - accuracy: 0.9543 - val_loss: 0.3277 - val_accuracy: 0.8994\n",
            "Epoch 7/10\n",
            "718/718 [==============================] - 1451s 2s/step - loss: 0.1318 - accuracy: 0.9564 - val_loss: 0.3172 - val_accuracy: 0.9036\n",
            "Epoch 8/10\n",
            "718/718 [==============================] - 1460s 2s/step - loss: 0.1256 - accuracy: 0.9565 - val_loss: 0.3663 - val_accuracy: 0.8949\n",
            "Epoch 9/10\n",
            "718/718 [==============================] - 1385s 2s/step - loss: 0.1234 - accuracy: 0.9591 - val_loss: 0.3405 - val_accuracy: 0.8953\n",
            "Epoch 10/10\n",
            "718/718 [==============================] - 1482s 2s/step - loss: 0.1213 - accuracy: 0.9589 - val_loss: 0.3471 - val_accuracy: 0.8989\n",
            "1452/1452 [==============================] - 4s 3ms/step - loss: 0.4034 - accuracy: 0.8856\n"
          ]
        },
        {
          "output_type": "display_data",
          "data": {
            "text/plain": [
              "<Figure size 640x480 with 1 Axes>"
            ],
            "image/png": "[encoded data removed]"
          },
          "metadata": {}
        },
        {
          "output_type": "display_data",
          "data": {
            "text/plain": [
              "<Figure size 640x480 with 1 Axes>"
            ],
            "image/png": "[encoded data removed]"
          },
          "metadata": {}
        }
      ],
      "source": [
        "import tensorflow as tf\n",
        "from tensorflow.keras.models import Sequential\n",
        "from tensorflow.keras.layers import Embedding, SimpleRNN, Dense\n",
        "from tensorflow.keras.optimizers import Adam\n",
        "import numpy as np\n",
        "import pickle\n",
        "from helper_functions import unzip_data, create_tensorboard_callback, plot_loss_curves, compare_historys\n",
        "# Create directory to save tf logs\n",
        "SAVE_DIR = \"model_logs/rnn\"\n",
        "\n",
        "# Create a simple RNN model\n",
        "model = tf.keras.Sequential([\n",
        "    Embedding(input_dim=vocab_size, output_dim=128, input_length=X_train.shape[1]),\n",
        "    SimpleRNN(units=128),\n",
        "    Dense(units=num_classes, activation='softmax')\n",
        "])\n",
        "\n",
        "# Compile the model\n",
        "model.compile(loss='sparse_categorical_crossentropy', optimizer=Adam(), metrics=['accuracy'])\n",
        "\n",
        "subset_size = len(X_train) // 10  # Use 10% of the data\n",
        "X_train_subset = X_train[:subset_size]\n",
        "y_train_subset = y_train[:subset_size]\n",
        "\n",
        "# Fit the model\n",
        "history = model.fit(X_train_subset, y_train_subset, validation_data=(X_val, y_val), epochs=10, callbacks=[create_tensorboard_callback(SAVE_DIR,\"base_rnn\")])\n",
        "\n",
        "# Evaluate the model\n",
        "model.evaluate(X_test, y_test)\n"
      ]
    },
    {
      "cell_type": "code",
      "source": [
        "# Get numbers like f1 score, precision, recall\n",
        "y_pred = model.predict(X_test)\n",
        "y_pred = np.argmax(y_pred, axis=1)\n",
        "print(classification_report(y_test, y_pred), sep='\\n')\n",
        "# Print final values precision f1\n",
        "print(\"Final training loss: {:.4f}\".format(history.history['loss'][-1]))\n",
        "print(\"Final validation loss: {:.4f}\".format(history.history['val_loss'][-1]))\n",
        "print(\"Final training accuracy: {:.4f}\".format(history.history['accuracy'][-1]))\n",
        "print(\"Final validation accuracy: {:.4f}\".format(history.history['val_accuracy'][-1]))\n",
        "print(\"Final test accuracy: {:.4f}\".format(model.evaluate(X_test, y_test)[1]))\n",
        "print(\"Final test loss: {:.4f}\".format(model.evaluate(X_test, y_test)[0]))\n",
        "print(\"Final test f1 score: {:.4f}\".format(precision_recall_fscore_support(y_test, y_pred, average='weighted')[2]))\n",
        "print(\"Final test precision: {:.4f}\".format(precision_recall_fscore_support(y_test, y_pred, average='weighted')[0]))\n",
        "print(\"Final test recall: {:.4f}\".format(precision_recall_fscore_support(y_test, y_pred, average='weighted')[1]))\n"
      ],
      "metadata": {
        "colab": {
          "base_uri": "https://localhost:8080/"
        },
        "id": "CLQ82KdCkdtJ",
        "outputId": "5a8b626b-7852-4b6f-b5d5-815d156d1db1"
      },
      "execution_count": null,
      "outputs": [
        {
          "output_type": "stream",
          "name": "stdout",
          "text": [
            "1452/1452 [==============================] - 14s 9ms/step\n",
            "              precision    recall  f1-score   support\n",
            "\n",
            "           0       0.95      0.97      0.96     38323\n",
            "           1       0.55      0.33      0.41      2491\n",
            "           2       0.52      0.51      0.52      1919\n",
            "           3       0.34      0.27      0.30       909\n",
            "           4       0.60      0.75      0.67      2773\n",
            "           5       0.00      0.00      0.00         9\n",
            "           6       0.00      0.00      0.00         5\n",
            "           7       0.00      0.00      0.00         6\n",
            "\n",
            "    accuracy                           0.89     46435\n",
            "   macro avg       0.37      0.35      0.36     46435\n",
            "weighted avg       0.88      0.89      0.88     46435\n",
            "\n",
            "Final training loss: 0.1213\n",
            "Final validation loss: 0.3471\n",
            "Final training accuracy: 0.9589\n",
            "Final validation accuracy: 0.8989\n",
            "   1/1452 [..............................] - ETA: 40s - loss: 0.8195 - accuracy: 0.6250"
          ]
        },
        {
          "output_type": "stream",
          "name": "stderr",
          "text": [
            "/usr/local/lib/python3.10/dist-packages/sklearn/metrics/_classification.py:1344: UndefinedMetricWarning: Precision and F-score are ill-defined and being set to 0.0 in labels with no predicted samples. Use `zero_division` parameter to control this behavior.\n",
            "  _warn_prf(average, modifier, msg_start, len(result))\n",
            "/usr/local/lib/python3.10/dist-packages/sklearn/metrics/_classification.py:1344: UndefinedMetricWarning: Precision and F-score are ill-defined and being set to 0.0 in labels with no predicted samples. Use `zero_division` parameter to control this behavior.\n",
            "  _warn_prf(average, modifier, msg_start, len(result))\n",
            "/usr/local/lib/python3.10/dist-packages/sklearn/metrics/_classification.py:1344: UndefinedMetricWarning: Precision and F-score are ill-defined and being set to 0.0 in labels with no predicted samples. Use `zero_division` parameter to control this behavior.\n",
            "  _warn_prf(average, modifier, msg_start, len(result))\n"
          ]
        },
        {
          "output_type": "stream",
          "name": "stdout",
          "text": [
            "1452/1452 [==============================] - 6s 4ms/step - loss: 0.4034 - accuracy: 0.8856\n",
            "Final test accuracy: 0.8856\n",
            "1452/1452 [==============================] - 6s 4ms/step - loss: 0.4034 - accuracy: 0.8856\n",
            "Final test loss: 0.4034\n",
            "Final test f1 score: 0.8801\n",
            "Final test precision: 0.8789\n",
            "Final test recall: 0.8856\n"
          ]
        },
        {
          "output_type": "stream",
          "name": "stderr",
          "text": [
            "/usr/local/lib/python3.10/dist-packages/sklearn/metrics/_classification.py:1344: UndefinedMetricWarning: Precision and F-score are ill-defined and being set to 0.0 in labels with no predicted samples. Use `zero_division` parameter to control this behavior.\n",
            "  _warn_prf(average, modifier, msg_start, len(result))\n",
            "/usr/local/lib/python3.10/dist-packages/sklearn/metrics/_classification.py:1344: UndefinedMetricWarning: Precision and F-score are ill-defined and being set to 0.0 in labels with no predicted samples. Use `zero_division` parameter to control this behavior.\n",
            "  _warn_prf(average, modifier, msg_start, len(result))\n",
            "/usr/local/lib/python3.10/dist-packages/sklearn/metrics/_classification.py:1344: UndefinedMetricWarning: Precision and F-score are ill-defined and being set to 0.0 in labels with no predicted samples. Use `zero_division` parameter to control this behavior.\n",
            "  _warn_prf(average, modifier, msg_start, len(result))\n"
          ]
        }
      ]
    },
    {
      "cell_type": "code",
      "source": [
        "model.summary()"
      ],
      "metadata": {
        "colab": {
          "base_uri": "https://localhost:8080/"
        },
        "id": "B1ks2XhCjTol",
        "outputId": "a74ab76e-da9a-49a9-c5fd-954d6c58f703"
      },
      "execution_count": null,
      "outputs": [
        {
          "output_type": "stream",
          "name": "stdout",
          "text": [
            "Model: \"sequential\"\n",
            "_________________________________________________________________\n",
            " Layer (type)                Output Shape              Param #   \n",
            "=================================================================\n",
            " embedding (Embedding)       (None, 5, 128)            51200640  \n",
            "                                                                 \n",
            " simple_rnn (SimpleRNN)      (None, 128)               32896     \n",
            "                                                                 \n",
            " dense (Dense)               (None, 8)                 1032      \n",
            "                                                                 \n",
            "=================================================================\n",
            "Total params: 51234568 (195.44 MB)\n",
            "Trainable params: 51234568 (195.44 MB)\n",
            "Non-trainable params: 0 (0.00 Byte)\n",
            "_________________________________________________________________\n"
          ]
        }
      ]
    },
    {
      "cell_type": "markdown",
      "metadata": {
        "id": "Hu696ZJrSwK6"
      },
      "source": []
    },
    {
      "cell_type": "code",
      "execution_count": null,
      "metadata": {
        "id": "ZG_DTvvtpyen",
        "colab": {
          "base_uri": "https://localhost:8080/"
        },
        "outputId": "1391bb6a-3893-490b-9f8c-7648adba2883"
      },
      "outputs": [
        {
          "output_type": "stream",
          "name": "stdout",
          "text": [
            "Model saved to 'saved_model/simple_rnn_ner'\n",
            "Model loaded from 'saved_model/simple_rnn_ner'\n",
            "Model size: 51234568\n"
          ]
        }
      ],
      "source": [
        "from tensorflow import keras\n",
        "# Save the model\n",
        "model.save('saved_model/simple_rnn_ner')\n",
        "print(\"Model saved to 'saved_model/simple_rnn_ner'\")\n",
        "\n",
        "# Load the model\n",
        "model = keras.models.load_model('saved_model/simple_rnn_ner')\n",
        "print(\"Model loaded from 'saved_model/simple_rnn_ner'\")\n",
        "# GET model size\n",
        "model_size = model.count_params()\n",
        "print(\"Model size:\", model_size)\n",
        "# model size in mb\n",
        "model_size_mb = model_size / (1024 * 1024)\n",
        "print(\"Model size in MB:\", model_size_mb)\n",
        "\n",
        "\n"
      ]
    },
    {
      "cell_type": "code",
      "source": [
        "model_size_mb = model_size / (1024 * 1024)\n",
        "print(\"Model size in MB:\", model_size_mb)\n",
        "# get training time and inference time\n",
        "import time\n",
        "start_time = time.time()\n",
        "model.predict(X_test)\n",
        "end_time = time.time()\n",
        "training_time = end_time - start_time\n",
        "print(\"Training time:\", training_time)\n",
        "#inference time\n",
        "start_time = time.time()\n",
        "model.predict(X_test)\n",
        "end_time = time.time()\n",
        "inference_time = end_time - start_time\n",
        "print(\"Inference time:\", inference_time)"
      ],
      "metadata": {
        "colab": {
          "base_uri": "https://localhost:8080/"
        },
        "id": "pk2yCcipebV5",
        "outputId": "7c897c91-281a-4b9b-fad5-40a576b593ab"
      },
      "execution_count": null,
      "outputs": [
        {
          "output_type": "stream",
          "name": "stdout",
          "text": [
            "Model size in MB: 48.86109161376953\n",
            "1452/1452 [==============================] - 11s 8ms/step\n",
            "Training time: 20.69799494743347\n",
            "1452/1452 [==============================] - 5s 4ms/step\n",
            "Inference time: 10.312046766281128\n"
          ]
        }
      ]
    },
    {
      "cell_type": "markdown",
      "source": [
        "2. LSTM"
      ],
      "metadata": {
        "id": "xxtsbGfbfnQZ"
      }
    },
    {
      "cell_type": "code",
      "source": [
        "from tensorflow.keras import layers\n",
        "from tensorflow.keras import regularizers\n",
        "from tensorflow.keras.models import Model\n",
        "from tensorflow.keras.optimizers import Adam\n",
        "\n",
        "SAVE_DIR = \"model_logs/lstm\"\n",
        "\n",
        "# Define the input layer\n",
        "inputs = layers.Input(shape=(X_train.shape[1],))\n",
        "\n",
        "# Build the model\n",
        "x = layers.Embedding(vocab_size, 128)(inputs)\n",
        "x = layers.LSTM(128, return_sequences=True)(x)\n",
        "x = layers.LSTM(128)(x)\n",
        "outputs = layers.Dense(num_classes, activation='softmax')(x)\n",
        "\n",
        "# Create the model\n",
        "model_1 = Model(inputs=inputs, outputs=outputs)\n",
        "\n",
        "# Compile the model\n",
        "model_1.compile(loss='sparse_categorical_crossentropy', optimizer=Adam(), metrics=['accuracy'])\n",
        "\n",
        "# Prepare the subset of data\n",
        "subset_size = len(X_train) // 10  # Use 10% of the data\n",
        "X_train_subset = X_train[:subset_size]\n",
        "y_train_subset = y_train[:subset_size]\n",
        "\n",
        "# Train the model\n",
        "history_1 = model_1.fit(\n",
        "    X_train_subset,\n",
        "    y_train_subset,\n",
        "    validation_data=(X_val, y_val),\n",
        "    epochs=10,\n",
        "    callbacks=[create_tensorboard_callback(SAVE_DIR, \"lstm\")]\n",
        ")"
      ],
      "metadata": {
        "colab": {
          "base_uri": "https://localhost:8080/"
        },
        "id": "h7E-f5wZfrEU",
        "outputId": "07ad15a6-c9a9-473f-e13c-f67898c858ee"
      },
      "execution_count": null,
      "outputs": [
        {
          "output_type": "stream",
          "name": "stdout",
          "text": [
            "Saving TensorBoard log files to: model_logs/lstm/lstm/20240719-060623\n",
            "Epoch 1/10\n",
            "718/718 [==============================] - 1324s 2s/step - loss: 0.5092 - accuracy: 0.8341 - val_loss: 0.3690 - val_accuracy: 0.8582\n",
            "Epoch 2/10\n",
            "718/718 [==============================] - 1520s 2s/step - loss: 0.3289 - accuracy: 0.8723 - val_loss: 0.3233 - val_accuracy: 0.8797\n",
            "Epoch 3/10\n",
            "718/718 [==============================] - 1426s 2s/step - loss: 0.2689 - accuracy: 0.9018 - val_loss: 0.3014 - val_accuracy: 0.8948\n",
            "Epoch 4/10\n",
            "718/718 [==============================] - 1350s 2s/step - loss: 0.2322 - accuracy: 0.9169 - val_loss: 0.2981 - val_accuracy: 0.8978\n",
            "Epoch 5/10\n",
            "718/718 [==============================] - 1297s 2s/step - loss: 0.2030 - accuracy: 0.9297 - val_loss: 0.3064 - val_accuracy: 0.8960\n",
            "Epoch 6/10\n",
            "718/718 [==============================] - 1545s 2s/step - loss: 0.1817 - accuracy: 0.9390 - val_loss: 0.3065 - val_accuracy: 0.9011\n",
            "Epoch 7/10\n",
            "718/718 [==============================] - 1494s 2s/step - loss: 0.1633 - accuracy: 0.9452 - val_loss: 0.3197 - val_accuracy: 0.9023\n",
            "Epoch 8/10\n",
            "718/718 [==============================] - 1509s 2s/step - loss: 0.1475 - accuracy: 0.9504 - val_loss: 0.3295 - val_accuracy: 0.9003\n",
            "Epoch 9/10\n",
            "718/718 [==============================] - 1247s 2s/step - loss: 0.1374 - accuracy: 0.9538 - val_loss: 0.3343 - val_accuracy: 0.9042\n",
            "Epoch 10/10\n",
            "718/718 [==============================] - 1223s 2s/step - loss: 0.1300 - accuracy: 0.9555 - val_loss: 0.3365 - val_accuracy: 0.9054\n"
          ]
        }
      ]
    },
    {
      "cell_type": "code",
      "source": [
        "# Evaluate the model\n",
        "model_1.evaluate(X_test, y_test)\n",
        "\n",
        "# Plot the loss curves\n",
        "plot_loss_curves(history_1)\n",
        "\n",
        "# Get and plot other metrics like f1 sore, precision, recall\n",
        "y_pred = model_1.predict(X_test)\n",
        "y_pred = np.argmax(y_pred, axis=1)\n",
        "print(classification_report(y_test, y_pred))"
      ],
      "metadata": {
        "colab": {
          "base_uri": "https://localhost:8080/",
          "height": 1000
        },
        "id": "Dcgq8rLki8aX",
        "outputId": "0f0c2516-0855-4b49-dc6c-5e86e5bfff1f"
      },
      "execution_count": null,
      "outputs": [
        {
          "output_type": "stream",
          "name": "stdout",
          "text": [
            "1452/1452 [==============================] - 25s 17ms/step - loss: 0.3851 - accuracy: 0.8888\n",
            "1452/1452 [==============================] - 24s 15ms/step\n"
          ]
        },
        {
          "output_type": "stream",
          "name": "stderr",
          "text": [
            "/usr/local/lib/python3.10/dist-packages/sklearn/metrics/_classification.py:1344: UndefinedMetricWarning: Precision and F-score are ill-defined and being set to 0.0 in labels with no predicted samples. Use `zero_division` parameter to control this behavior.\n",
            "  _warn_prf(average, modifier, msg_start, len(result))\n",
            "/usr/local/lib/python3.10/dist-packages/sklearn/metrics/_classification.py:1344: UndefinedMetricWarning: Precision and F-score are ill-defined and being set to 0.0 in labels with no predicted samples. Use `zero_division` parameter to control this behavior.\n",
            "  _warn_prf(average, modifier, msg_start, len(result))\n",
            "/usr/local/lib/python3.10/dist-packages/sklearn/metrics/_classification.py:1344: UndefinedMetricWarning: Precision and F-score are ill-defined and being set to 0.0 in labels with no predicted samples. Use `zero_division` parameter to control this behavior.\n",
            "  _warn_prf(average, modifier, msg_start, len(result))\n"
          ]
        },
        {
          "output_type": "stream",
          "name": "stdout",
          "text": [
            "              precision    recall  f1-score   support\n",
            "\n",
            "           0       0.96      0.97      0.96     38323\n",
            "           1       0.45      0.47      0.46      2491\n",
            "           2       0.55      0.45      0.49      1919\n",
            "           3       0.32      0.32      0.32       909\n",
            "           4       0.67      0.70      0.68      2773\n",
            "           5       0.00      0.00      0.00         9\n",
            "           6       0.00      0.00      0.00         5\n",
            "           7       0.00      0.00      0.00         6\n",
            "\n",
            "    accuracy                           0.89     46435\n",
            "   macro avg       0.37      0.36      0.36     46435\n",
            "weighted avg       0.89      0.89      0.89     46435\n",
            "\n"
          ]
        },
        {
          "output_type": "display_data",
          "data": {
            "text/plain": [
              "<Figure size 640x480 with 1 Axes>"
            ],
            "image/png": "[encoded data removed]"
          },
          "metadata": {}
        },
        {
          "output_type": "display_data",
          "data": {
            "text/plain": [
              "<Figure size 640x480 with 1 Axes>"
            ],
            "image/png": "[encoded data removed]"
          },
          "metadata": {}
        }
      ]
    },
    {
      "cell_type": "code",
      "source": [
        "model_1.summary()"
      ],
      "metadata": {
        "colab": {
          "base_uri": "https://localhost:8080/"
        },
        "id": "tYfgPFze0TVM",
        "outputId": "7ab9fad3-f002-4f53-99ca-efec3fd773f6"
      },
      "execution_count": null,
      "outputs": [
        {
          "output_type": "stream",
          "name": "stdout",
          "text": [
            "Model: \"model_2\"\n",
            "_________________________________________________________________\n",
            " Layer (type)                Output Shape              Param #   \n",
            "=================================================================\n",
            " input_3 (InputLayer)        [(None, 5)]               0         \n",
            "                                                                 \n",
            " embedding_3 (Embedding)     (None, 5, 128)            51200640  \n",
            "                                                                 \n",
            " lstm_4 (LSTM)               (None, 5, 128)            131584    \n",
            "                                                                 \n",
            " lstm_5 (LSTM)               (None, 128)               131584    \n",
            "                                                                 \n",
            " dense_3 (Dense)             (None, 8)                 1032      \n",
            "                                                                 \n",
            "=================================================================\n",
            "Total params: 51464840 (196.32 MB)\n",
            "Trainable params: 51464840 (196.32 MB)\n",
            "Non-trainable params: 0 (0.00 Byte)\n",
            "_________________________________________________________________\n"
          ]
        }
      ]
    },
    {
      "cell_type": "code",
      "source": [
        "y_pred = model_1.predict(X_test)\n",
        "y_pred = np.argmax(y_pred, axis=1)  # Convert probabilities to class labels"
      ],
      "metadata": {
        "colab": {
          "base_uri": "https://localhost:8080/"
        },
        "id": "Al9Yzw3ui871",
        "outputId": "4c36752f-4334-43ff-f46a-34053a586fe2"
      },
      "execution_count": null,
      "outputs": [
        {
          "output_type": "stream",
          "name": "stdout",
          "text": [
            "1452/1452 [==============================] - 23s 16ms/step\n"
          ]
        }
      ]
    },
    {
      "cell_type": "code",
      "source": [
        "print(classification_report(y_test, y_pred), sep='\\n')\n",
        "\n",
        "# The rest of your code remains the same\n",
        "print(\"Final training loss: {:.4f}\".format(history_1.history['loss'][-1]))\n",
        "print(\"Final validation loss: {:.4f}\".format(history_1.history['val_loss'][-1]))\n",
        "print(\"Final training accuracy: {:.4f}\".format(history_1.history['accuracy'][-1]))\n",
        "print(\"Final validation accuracy: {:.4f}\".format(history_1.history['val_accuracy'][-1]))\n",
        "print(\"Final test accuracy: {:.4f}\".format(model_1.evaluate(X_test, y_test)[1]))\n",
        "print(\"Final test loss: {:.4f}\".format(model_1.evaluate(X_test, y_test)[0]))\n",
        "print(\"Final test f1 score: {:.4f}\".format(precision_recall_fscore_support(y_test, y_pred, average='weighted')[2]))\n",
        "print(\"Final test precision: {:.4f}\".format(precision_recall_fscore_support(y_test, y_pred, average='weighted')[0]))\n",
        "print(\"Final test recall: {:.4f}\".format(precision_recall_fscore_support(y_test, y_pred, average='weighted')[1]))"
      ],
      "metadata": {
        "colab": {
          "base_uri": "https://localhost:8080/"
        },
        "id": "ganA-02Ugisq",
        "outputId": "9c844bf4-4b62-4523-a817-387e47a171b4"
      },
      "execution_count": null,
      "outputs": [
        {
          "output_type": "stream",
          "name": "stderr",
          "text": [
            "/usr/local/lib/python3.10/dist-packages/sklearn/metrics/_classification.py:1344: UndefinedMetricWarning: Precision and F-score are ill-defined and being set to 0.0 in labels with no predicted samples. Use `zero_division` parameter to control this behavior.\n",
            "  _warn_prf(average, modifier, msg_start, len(result))\n",
            "/usr/local/lib/python3.10/dist-packages/sklearn/metrics/_classification.py:1344: UndefinedMetricWarning: Precision and F-score are ill-defined and being set to 0.0 in labels with no predicted samples. Use `zero_division` parameter to control this behavior.\n",
            "  _warn_prf(average, modifier, msg_start, len(result))\n",
            "/usr/local/lib/python3.10/dist-packages/sklearn/metrics/_classification.py:1344: UndefinedMetricWarning: Precision and F-score are ill-defined and being set to 0.0 in labels with no predicted samples. Use `zero_division` parameter to control this behavior.\n",
            "  _warn_prf(average, modifier, msg_start, len(result))\n"
          ]
        },
        {
          "output_type": "stream",
          "name": "stdout",
          "text": [
            "              precision    recall  f1-score   support\n",
            "\n",
            "           0       0.96      0.97      0.96     38323\n",
            "           1       0.45      0.47      0.46      2491\n",
            "           2       0.55      0.45      0.49      1919\n",
            "           3       0.32      0.32      0.32       909\n",
            "           4       0.67      0.70      0.68      2773\n",
            "           5       0.00      0.00      0.00         9\n",
            "           6       0.00      0.00      0.00         5\n",
            "           7       0.00      0.00      0.00         6\n",
            "\n",
            "    accuracy                           0.89     46435\n",
            "   macro avg       0.37      0.36      0.36     46435\n",
            "weighted avg       0.89      0.89      0.89     46435\n",
            "\n",
            "Final training loss: 0.1300\n",
            "Final validation loss: 0.3365\n",
            "Final training accuracy: 0.9555\n",
            "Final validation accuracy: 0.9054\n",
            "1452/1452 [==============================] - 31s 19ms/step - loss: 0.3851 - accuracy: 0.8888\n",
            "Final test accuracy: 0.8888\n",
            "1452/1452 [==============================] - 20s 13ms/step - loss: 0.3851 - accuracy: 0.8888\n",
            "Final test loss: 0.3851\n",
            "Final test f1 score: 0.8875\n",
            "Final test precision: 0.8866\n",
            "Final test recall: 0.8888\n"
          ]
        },
        {
          "output_type": "stream",
          "name": "stderr",
          "text": [
            "/usr/local/lib/python3.10/dist-packages/sklearn/metrics/_classification.py:1344: UndefinedMetricWarning: Precision and F-score are ill-defined and being set to 0.0 in labels with no predicted samples. Use `zero_division` parameter to control this behavior.\n",
            "  _warn_prf(average, modifier, msg_start, len(result))\n",
            "/usr/local/lib/python3.10/dist-packages/sklearn/metrics/_classification.py:1344: UndefinedMetricWarning: Precision and F-score are ill-defined and being set to 0.0 in labels with no predicted samples. Use `zero_division` parameter to control this behavior.\n",
            "  _warn_prf(average, modifier, msg_start, len(result))\n",
            "/usr/local/lib/python3.10/dist-packages/sklearn/metrics/_classification.py:1344: UndefinedMetricWarning: Precision and F-score are ill-defined and being set to 0.0 in labels with no predicted samples. Use `zero_division` parameter to control this behavior.\n",
            "  _warn_prf(average, modifier, msg_start, len(result))\n"
          ]
        }
      ]
    },
    {
      "cell_type": "code",
      "source": [
        "# Save the above model\n",
        "model_1.save('saved_model/lstm_ner')\n",
        "print(\"Model saved to 'saved_model/lstm_ner'\")\n",
        "\n",
        "# Load the model\n",
        "model_1 = keras.models.load_model('saved_model/lstm_ner')\n",
        "print(\"Model loaded from 'saved_model/lstm_ner'\")"
      ],
      "metadata": {
        "colab": {
          "base_uri": "https://localhost:8080/"
        },
        "id": "4sOoPdOahZu5",
        "outputId": "48e402e9-351f-41c3-c915-058deb235395"
      },
      "execution_count": null,
      "outputs": [
        {
          "output_type": "stream",
          "name": "stdout",
          "text": [
            "Model saved to 'saved_model/lstm_ner'\n",
            "Model loaded from 'saved_model/lstm_ner'\n"
          ]
        }
      ]
    },
    {
      "cell_type": "code",
      "source": [
        "# Getting size, inference and training time (avg 3values)\n",
        "import time\n",
        "import numpy as np\n",
        "\n",
        "# Measure inference time for 10 iterations\n",
        "inference_times = []\n",
        "for _ in range(10):\n",
        "    start_time = time.time()\n",
        "    model_1.predict(X_test)\n",
        "    end_time = time.time()\n",
        "    inference_times.append(end_time - start_time)\n",
        "\n",
        "average_inference_time = np.mean(inference_times)\n",
        "print(f\"Average inference time over 10 iterations: {average_inference_time:.4f} seconds\")"
      ],
      "metadata": {
        "colab": {
          "base_uri": "https://localhost:8080/"
        },
        "id": "MFy8FXd-hwfQ",
        "outputId": "5673c5c5-3f2b-473a-b53a-c8b93c9d4a5c"
      },
      "execution_count": null,
      "outputs": [
        {
          "output_type": "stream",
          "name": "stdout",
          "text": [
            "1452/1452 [==============================] - 18s 12ms/step\n",
            "1452/1452 [==============================] - 15s 10ms/step\n",
            "1452/1452 [==============================] - 15s 10ms/step\n",
            "1452/1452 [==============================] - 25s 17ms/step\n",
            "1452/1452 [==============================] - 18s 12ms/step\n",
            "1452/1452 [==============================] - 19s 13ms/step\n",
            "1452/1452 [==============================] - 15s 10ms/step\n",
            "1452/1452 [==============================] - 18s 12ms/step\n",
            "1452/1452 [==============================] - 17s 12ms/step\n",
            "1452/1452 [==============================] - 20s 14ms/step\n",
            "Average inference time over 10 iterations: 21.7868 seconds\n"
          ]
        }
      ]
    },
    {
      "cell_type": "markdown",
      "source": [
        "## GRU"
      ],
      "metadata": {
        "id": "uo9jM-qrqxy0"
      }
    },
    {
      "cell_type": "code",
      "source": [
        "# Building a GRU network\n",
        "from tensorflow.keras import layers\n",
        "from tensorflow.keras import regularizers\n",
        "from tensorflow.keras.models import Model\n",
        "from tensorflow.keras.optimizers import Adam\n",
        "\n",
        "SAVE_DIR = \"model_logs/gru\"\n",
        "\n",
        "# Define the input layer\n",
        "inputs = layers.Input(shape=(X_train.shape[1],))\n",
        "\n",
        "# Build the model\n",
        "x = layers.Embedding(vocab_size, 128)(inputs)\n",
        "x = layers.GRU(128, return_sequences=True)(x)\n",
        "x = layers.GRU(128)(x)\n",
        "x = layers.Dense(num_classes, activation='softmax')(x)\n",
        "\n",
        "# Create Model\n",
        "model_2 = Model(inputs=inputs, outputs=x)\n",
        "\n",
        "# Compile the model\n",
        "model_2.compile(loss='sparse_categorical_crossentropy', optimizer=Adam(), metrics=['accuracy'])\n",
        "\n",
        "# Prepare the subset of data\n",
        "subset_size = len(X_train) // 10  # Use 10% of the data\n",
        "X_train_subset = X_train[:subset_size]\n",
        "y_train_subset = y_train[:subset_size]\n",
        "\n",
        "# Train the model\n",
        "history_2 = model_2.fit(\n",
        "    X_train_subset,\n",
        "    y_train_subset,\n",
        "    validation_data=(X_val, y_val),\n",
        "    epochs=10,\n",
        "    callbacks=[create_tensorboard_callback(SAVE_DIR, \"gru\")]\n",
        ")"
      ],
      "metadata": {
        "colab": {
          "base_uri": "https://localhost:8080/"
        },
        "id": "UzoOOLNjh8hJ",
        "outputId": "aadec173-a30d-402a-f181-9ab3e5f517e8"
      },
      "execution_count": 10,
      "outputs": [
        {
          "output_type": "stream",
          "name": "stdout",
          "text": [
            "Saving TensorBoard log files to: model_logs/gru/gru/20240720-010404\n",
            "Epoch 1/10\n",
            "718/718 [==============================] - 1681s 2s/step - loss: 0.4450 - accuracy: 0.8540 - val_loss: 0.3099 - val_accuracy: 0.8799\n",
            "Epoch 2/10\n",
            "718/718 [==============================] - 1654s 2s/step - loss: 0.2632 - accuracy: 0.9079 - val_loss: 0.2749 - val_accuracy: 0.9023\n",
            "Epoch 3/10\n",
            "718/718 [==============================] - 1599s 2s/step - loss: 0.2001 - accuracy: 0.9312 - val_loss: 0.2816 - val_accuracy: 0.9016\n",
            "Epoch 4/10\n",
            "718/718 [==============================] - 1607s 2s/step - loss: 0.1634 - accuracy: 0.9451 - val_loss: 0.3036 - val_accuracy: 0.9035\n",
            "Epoch 5/10\n",
            "718/718 [==============================] - 1616s 2s/step - loss: 0.1455 - accuracy: 0.9516 - val_loss: 0.3038 - val_accuracy: 0.9034\n",
            "Epoch 6/10\n",
            "718/718 [==============================] - 1453s 2s/step - loss: 0.1334 - accuracy: 0.9549 - val_loss: 0.3255 - val_accuracy: 0.9068\n",
            "Epoch 7/10\n",
            "718/718 [==============================] - 1331s 2s/step - loss: 0.1258 - accuracy: 0.9577 - val_loss: 0.3406 - val_accuracy: 0.9047\n",
            "Epoch 8/10\n",
            "718/718 [==============================] - 1322s 2s/step - loss: 0.1203 - accuracy: 0.9587 - val_loss: 0.3404 - val_accuracy: 0.9077\n",
            "Epoch 9/10\n",
            "718/718 [==============================] - 1331s 2s/step - loss: 0.1141 - accuracy: 0.9607 - val_loss: 0.3404 - val_accuracy: 0.9056\n",
            "Epoch 10/10\n",
            "718/718 [==============================] - 1283s 2s/step - loss: 0.1079 - accuracy: 0.9628 - val_loss: 0.3469 - val_accuracy: 0.9060\n"
          ]
        }
      ]
    },
    {
      "cell_type": "code",
      "source": [
        "# Evaluate model\n",
        "model_2.evaluate(X_test, y_test)\n",
        "\n",
        "# Plot the loss curves\n",
        "plot_loss_curves(history_2)"
      ],
      "metadata": {
        "id": "xlWA3J0qt69t",
        "colab": {
          "base_uri": "https://localhost:8080/",
          "height": 944
        },
        "outputId": "c2c9cc9b-53b8-45f8-e8b5-dfdde8afa758"
      },
      "execution_count": 11,
      "outputs": [
        {
          "output_type": "stream",
          "name": "stdout",
          "text": [
            "1452/1452 [==============================] - 11s 8ms/step - loss: 0.4084 - accuracy: 0.8892\n"
          ]
        },
        {
          "output_type": "display_data",
          "data": {
            "text/plain": [
              "<Figure size 640x480 with 1 Axes>"
            ],
            "image/png": "[encoded data removed]"
          },
          "metadata": {}
        },
        {
          "output_type": "display_data",
          "data": {
            "text/plain": [
              "<Figure size 640x480 with 1 Axes>"
            ],
            "image/png": "[encoded data removed]"
          },
          "metadata": {}
        }
      ]
    },
    {
      "cell_type": "code",
      "source": [
        "y_pred = model_2.predict(X_test)\n",
        "y_pred = np.argmax(y_pred, axis=1)\n",
        "print(classification_report(y_test, y_pred))"
      ],
      "metadata": {
        "id": "xHDTC6a9uLjU",
        "colab": {
          "base_uri": "https://localhost:8080/"
        },
        "outputId": "8f0c797a-fe68-4c92-97da-3fac2cba3887"
      },
      "execution_count": 12,
      "outputs": [
        {
          "output_type": "stream",
          "name": "stdout",
          "text": [
            "1452/1452 [==============================] - 10s 6ms/step\n",
            "              precision    recall  f1-score   support\n",
            "\n",
            "           0       0.96      0.97      0.96     38323\n",
            "           1       0.50      0.41      0.45      2491\n",
            "           2       0.49      0.52      0.51      1919\n",
            "           3       0.31      0.34      0.32       909\n",
            "           4       0.71      0.69      0.70      2773\n",
            "           5       0.00      0.00      0.00         9\n",
            "           6       0.00      0.00      0.00         5\n",
            "           7       0.00      0.00      0.00         6\n",
            "\n",
            "    accuracy                           0.89     46435\n",
            "   macro avg       0.37      0.37      0.37     46435\n",
            "weighted avg       0.89      0.89      0.89     46435\n",
            "\n"
          ]
        },
        {
          "output_type": "stream",
          "name": "stderr",
          "text": [
            "/usr/local/lib/python3.10/dist-packages/sklearn/metrics/_classification.py:1344: UndefinedMetricWarning: Precision and F-score are ill-defined and being set to 0.0 in labels with no predicted samples. Use `zero_division` parameter to control this behavior.\n",
            "  _warn_prf(average, modifier, msg_start, len(result))\n",
            "/usr/local/lib/python3.10/dist-packages/sklearn/metrics/_classification.py:1344: UndefinedMetricWarning: Precision and F-score are ill-defined and being set to 0.0 in labels with no predicted samples. Use `zero_division` parameter to control this behavior.\n",
            "  _warn_prf(average, modifier, msg_start, len(result))\n",
            "/usr/local/lib/python3.10/dist-packages/sklearn/metrics/_classification.py:1344: UndefinedMetricWarning: Precision and F-score are ill-defined and being set to 0.0 in labels with no predicted samples. Use `zero_division` parameter to control this behavior.\n",
            "  _warn_prf(average, modifier, msg_start, len(result))\n"
          ]
        }
      ]
    },
    {
      "cell_type": "code",
      "source": [
        "model_2.summary()"
      ],
      "metadata": {
        "id": "xHnHhyPKuX-P",
        "colab": {
          "base_uri": "https://localhost:8080/"
        },
        "outputId": "e3386dc0-5b2e-434c-eaf9-caf9e5edcc8a"
      },
      "execution_count": 13,
      "outputs": [
        {
          "output_type": "stream",
          "name": "stdout",
          "text": [
            "Model: \"model\"\n",
            "_________________________________________________________________\n",
            " Layer (type)                Output Shape              Param #   \n",
            "=================================================================\n",
            " input_1 (InputLayer)        [(None, 5)]               0         \n",
            "                                                                 \n",
            " embedding (Embedding)       (None, 5, 128)            51200640  \n",
            "                                                                 \n",
            " gru (GRU)                   (None, 5, 128)            99072     \n",
            "                                                                 \n",
            " gru_1 (GRU)                 (None, 128)               99072     \n",
            "                                                                 \n",
            " dense (Dense)               (None, 8)                 1032      \n",
            "                                                                 \n",
            "=================================================================\n",
            "Total params: 51399816 (196.07 MB)\n",
            "Trainable params: 51399816 (196.07 MB)\n",
            "Non-trainable params: 0 (0.00 Byte)\n",
            "_________________________________________________________________\n"
          ]
        }
      ]
    },
    {
      "cell_type": "code",
      "source": [
        "# The rest of your code remains the same\n",
        "print(\"Final training loss: {:.4f}\".format(history_2.history['loss'][-1]))\n",
        "print(\"Final validation loss: {:.4f}\".format(history_2.history['val_loss'][-1]))\n",
        "print(\"Final training accuracy: {:.4f}\".format(history_2.history['accuracy'][-1]))\n",
        "print(\"Final validation accuracy: {:.4f}\".format(history_2.history['val_accuracy'][-1]))\n",
        "print(\"Final test accuracy: {:.4f}\".format(model_2.evaluate(X_test, y_test)[1]))\n",
        "print(\"Final test loss: {:.4f}\".format(model_2.evaluate(X_test, y_test)[0]))\n",
        "print(\"Final test f1 score: {:.4f}\".format(precision_recall_fscore_support(y_test, y_pred, average='weighted')[2]))\n",
        "print(\"Final test precision: {:.4f}\".format(precision_recall_fscore_support(y_test, y_pred, average='weighted')[0]))\n",
        "print(\"Final test recall: {:.4f}\".format(precision_recall_fscore_support(y_test, y_pred, average='weighted')[1]))"
      ],
      "metadata": {
        "id": "9RuqLSk2ufPs",
        "colab": {
          "base_uri": "https://localhost:8080/"
        },
        "outputId": "ccfd6735-b938-4730-b4d4-7c1ec9d304c4"
      },
      "execution_count": 14,
      "outputs": [
        {
          "output_type": "stream",
          "name": "stdout",
          "text": [
            "Final training loss: 0.1079\n",
            "Final validation loss: 0.3469\n",
            "Final training accuracy: 0.9628\n",
            "Final validation accuracy: 0.9060\n",
            "1452/1452 [==============================] - 10s 7ms/step - loss: 0.4084 - accuracy: 0.8892\n",
            "Final test accuracy: 0.8892\n",
            "1452/1452 [==============================] - 10s 7ms/step - loss: 0.4084 - accuracy: 0.8892\n",
            "Final test loss: 0.4084\n",
            "Final test f1 score: 0.8875\n",
            "Final test precision: 0.8864\n",
            "Final test recall: 0.8892\n"
          ]
        },
        {
          "output_type": "stream",
          "name": "stderr",
          "text": [
            "/usr/local/lib/python3.10/dist-packages/sklearn/metrics/_classification.py:1344: UndefinedMetricWarning: Precision and F-score are ill-defined and being set to 0.0 in labels with no predicted samples. Use `zero_division` parameter to control this behavior.\n",
            "  _warn_prf(average, modifier, msg_start, len(result))\n",
            "/usr/local/lib/python3.10/dist-packages/sklearn/metrics/_classification.py:1344: UndefinedMetricWarning: Precision and F-score are ill-defined and being set to 0.0 in labels with no predicted samples. Use `zero_division` parameter to control this behavior.\n",
            "  _warn_prf(average, modifier, msg_start, len(result))\n",
            "/usr/local/lib/python3.10/dist-packages/sklearn/metrics/_classification.py:1344: UndefinedMetricWarning: Precision and F-score are ill-defined and being set to 0.0 in labels with no predicted samples. Use `zero_division` parameter to control this behavior.\n",
            "  _warn_prf(average, modifier, msg_start, len(result))\n"
          ]
        }
      ]
    },
    {
      "cell_type": "code",
      "source": [
        "import time\n",
        "import numpy as np\n",
        "\n",
        "# Measure inference time for 10 iterations\n",
        "inference_times = []\n",
        "for _ in range(10):\n",
        "    start_time = time.time()\n",
        "    model_2.predict(X_test)\n",
        "    end_time = time.time()\n",
        "    inference_times.append(end_time - start_time)\n",
        "\n",
        "average_inference_time = np.mean(inference_times)\n",
        "print(f\"Average inference time over 10 iterations: {average_inference_time:.4f} seconds\")\n",
        "\n",
        "# Size of model in mb\n",
        "model_size = model_2.count_params()\n",
        "model_size_mb = model_size / (1024 * 1024)\n",
        "print(\"Model size in MB:\", model_size_mb)"
      ],
      "metadata": {
        "id": "tE1mFm65wWOU",
        "colab": {
          "base_uri": "https://localhost:8080/"
        },
        "outputId": "eaa66770-612e-44ab-e269-700910d105b7"
      },
      "execution_count": 15,
      "outputs": [
        {
          "output_type": "stream",
          "name": "stdout",
          "text": [
            "1452/1452 [==============================] - 8s 6ms/step\n",
            "1452/1452 [==============================] - 13s 9ms/step\n",
            "1452/1452 [==============================] - 9s 6ms/step\n",
            "1452/1452 [==============================] - 10s 7ms/step\n",
            "1452/1452 [==============================] - 8s 5ms/step\n",
            "1452/1452 [==============================] - 12s 8ms/step\n",
            "1452/1452 [==============================] - 15s 10ms/step\n",
            "1452/1452 [==============================] - 9s 6ms/step\n",
            "1452/1452 [==============================] - 10s 7ms/step\n",
            "1452/1452 [==============================] - 9s 6ms/step\n",
            "Average inference time over 10 iterations: 13.9404 seconds\n",
            "Model size in MB: 49.01868438720703\n"
          ]
        }
      ]
    },
    {
      "cell_type": "code",
      "source": [
        "from tensorflow import keras\n",
        "# Save model\n",
        "model_2.save('saved_model/gru_ner')\n",
        "print(\"Model saved to 'saved_model/gru_ner'\")\n",
        "\n",
        "# Load model\n",
        "model_2 = keras.models.load_model('saved_model/gru_ner')\n",
        "print(\"Model loaded from 'saved_model/gru_ner'\")"
      ],
      "metadata": {
        "id": "tgQ4deOmuoqs",
        "colab": {
          "base_uri": "https://localhost:8080/"
        },
        "outputId": "f9cdbbf4-8a2c-4cb8-c042-32734d692378"
      },
      "execution_count": 17,
      "outputs": [
        {
          "output_type": "stream",
          "name": "stdout",
          "text": [
            "Model saved to 'saved_model/gru_ner'\n",
            "Model loaded from 'saved_model/gru_ner'\n"
          ]
        }
      ]
    },
    {
      "cell_type": "markdown",
      "source": [
        "## Bidirectional RNN"
      ],
      "metadata": {
        "id": "3HmPPGw_u5IJ"
      }
    },
    {
      "cell_type": "code",
      "source": [
        "from tensorflow.keras import layers\n",
        "from tensorflow.keras import regularizers\n",
        "from tensorflow.keras.models import Model\n",
        "from tensorflow.keras.optimizers import Adam\n",
        "\n",
        "x = layers.Embedding(vocab_size, 128)(inputs)\n",
        "x = layers.Bidirectional(layers.LSTM(128, return_sequences=True))(x)\n",
        "x = layers.Bidirectional(layers.LSTM(128))(x)\n",
        "x = layers.Dense(num_classes, activation='softmax')(x)\n",
        "\n",
        "# Create Model\n",
        "model_3 = Model(inputs=inputs, outputs=x)\n",
        "\n",
        "# Compile the model\n",
        "model_3.compile(loss='sparse_categorical_crossentropy', optimizer=Adam(), metrics=['accuracy'])\n",
        "\n",
        "# Prepare the subset of data\n",
        "subset_size = len(X_train) // 10  # Use 10% of the data\n",
        "X_train_subset = X_train[:subset_size]\n",
        "y_train_subset = y_train[:subset_size]\n",
        "\n",
        "# Train the model\n",
        "history_3 = model_3.fit(\n",
        "    X_train_subset,\n",
        "    y_train_subset,\n",
        "    validation_data=(X_val, y_val),\n",
        "    epochs=10,\n",
        "    callbacks=[create_tensorboard_callback(SAVE_DIR, \"bidirectional_rnn\")]\n",
        ")"
      ],
      "metadata": {
        "id": "3AZlk1etu8jT",
        "colab": {
          "base_uri": "https://localhost:8080/"
        },
        "outputId": "ad534d20-e7d2-4a3c-be9b-4ad245e897c4"
      },
      "execution_count": 18,
      "outputs": [
        {
          "output_type": "stream",
          "name": "stdout",
          "text": [
            "Saving TensorBoard log files to: model_logs/gru/bidirectional_rnn/20240720-052439\n",
            "Epoch 1/10\n",
            "718/718 [==============================] - 1525s 2s/step - loss: 0.4857 - accuracy: 0.8414 - val_loss: 0.3997 - val_accuracy: 0.8655\n",
            "Epoch 2/10\n",
            "718/718 [==============================] - 1641s 2s/step - loss: 0.3011 - accuracy: 0.8884 - val_loss: 0.3008 - val_accuracy: 0.8914\n",
            "Epoch 3/10\n",
            "718/718 [==============================] - 1643s 2s/step - loss: 0.2160 - accuracy: 0.9237 - val_loss: 0.2906 - val_accuracy: 0.9052\n",
            "Epoch 4/10\n",
            "718/718 [==============================] - 1627s 2s/step - loss: 0.1748 - accuracy: 0.9422 - val_loss: 0.2968 - val_accuracy: 0.9060\n",
            "Epoch 5/10\n",
            "718/718 [==============================] - 1631s 2s/step - loss: 0.1519 - accuracy: 0.9495 - val_loss: 0.3011 - val_accuracy: 0.9062\n",
            "Epoch 6/10\n",
            "718/718 [==============================] - 1621s 2s/step - loss: 0.1360 - accuracy: 0.9556 - val_loss: 0.3130 - val_accuracy: 0.9040\n",
            "Epoch 7/10\n",
            "718/718 [==============================] - 1628s 2s/step - loss: 0.1298 - accuracy: 0.9567 - val_loss: 0.3139 - val_accuracy: 0.9073\n",
            "Epoch 8/10\n",
            "718/718 [==============================] - 1634s 2s/step - loss: 0.1220 - accuracy: 0.9595 - val_loss: 0.3244 - val_accuracy: 0.9063\n",
            "Epoch 9/10\n",
            "718/718 [==============================] - 1640s 2s/step - loss: 0.1201 - accuracy: 0.9584 - val_loss: 0.3277 - val_accuracy: 0.9085\n",
            "Epoch 10/10\n",
            "718/718 [==============================] - 1626s 2s/step - loss: 0.1114 - accuracy: 0.9615 - val_loss: 0.3585 - val_accuracy: 0.9071\n"
          ]
        }
      ]
    },
    {
      "cell_type": "code",
      "source": [
        "model_3.evaluate(X_test, y_test)\n",
        "\n",
        "plot_loss_curves(history_3)\n"
      ],
      "metadata": {
        "id": "9zYx7V76vTpN",
        "colab": {
          "base_uri": "https://localhost:8080/",
          "height": 944
        },
        "outputId": "d527e3b9-2dda-42da-c0c4-cb605560d567"
      },
      "execution_count": 19,
      "outputs": [
        {
          "output_type": "stream",
          "name": "stdout",
          "text": [
            "1452/1452 [==============================] - 30s 21ms/step - loss: 0.4179 - accuracy: 0.8899\n"
          ]
        },
        {
          "output_type": "display_data",
          "data": {
            "text/plain": [
              "<Figure size 640x480 with 1 Axes>"
            ],
            "image/png": "[encoded data removed]"
          },
          "metadata": {}
        },
        {
          "output_type": "display_data",
          "data": {
            "text/plain": [
              "<Figure size 640x480 with 1 Axes>"
            ],
            "image/png": "[encoded data removed]"
          },
          "metadata": {}
        }
      ]
    },
    {
      "cell_type": "code",
      "source": [
        "y_pred = model_3.predict(X_test)\n",
        "y_pred = np.argmax(y_pred, axis=1)\n",
        "print(classification_report(y_test, y_pred))"
      ],
      "metadata": {
        "id": "EvU1VwCqvYb_",
        "colab": {
          "base_uri": "https://localhost:8080/"
        },
        "outputId": "92c799c0-71c7-4943-bac6-f6f95db4c4f0"
      },
      "execution_count": 20,
      "outputs": [
        {
          "output_type": "stream",
          "name": "stdout",
          "text": [
            "1452/1452 [==============================] - 46s 27ms/step\n",
            "              precision    recall  f1-score   support\n",
            "\n",
            "           0       0.97      0.96      0.96     38323\n",
            "           1       0.51      0.43      0.47      2491\n",
            "           2       0.53      0.54      0.53      1919\n",
            "           3       0.30      0.35      0.33       909\n",
            "           4       0.63      0.71      0.67      2773\n",
            "           5       0.00      0.00      0.00         9\n",
            "           6       0.00      0.00      0.00         5\n",
            "           7       0.00      0.00      0.00         6\n",
            "\n",
            "    accuracy                           0.89     46435\n",
            "   macro avg       0.37      0.37      0.37     46435\n",
            "weighted avg       0.89      0.89      0.89     46435\n",
            "\n"
          ]
        },
        {
          "output_type": "stream",
          "name": "stderr",
          "text": [
            "/usr/local/lib/python3.10/dist-packages/sklearn/metrics/_classification.py:1344: UndefinedMetricWarning: Precision and F-score are ill-defined and being set to 0.0 in labels with no predicted samples. Use `zero_division` parameter to control this behavior.\n",
            "  _warn_prf(average, modifier, msg_start, len(result))\n",
            "/usr/local/lib/python3.10/dist-packages/sklearn/metrics/_classification.py:1344: UndefinedMetricWarning: Precision and F-score are ill-defined and being set to 0.0 in labels with no predicted samples. Use `zero_division` parameter to control this behavior.\n",
            "  _warn_prf(average, modifier, msg_start, len(result))\n",
            "/usr/local/lib/python3.10/dist-packages/sklearn/metrics/_classification.py:1344: UndefinedMetricWarning: Precision and F-score are ill-defined and being set to 0.0 in labels with no predicted samples. Use `zero_division` parameter to control this behavior.\n",
            "  _warn_prf(average, modifier, msg_start, len(result))\n"
          ]
        }
      ]
    },
    {
      "cell_type": "code",
      "source": [
        "model_3.summary()"
      ],
      "metadata": {
        "id": "HZwwPoTKvbb7",
        "colab": {
          "base_uri": "https://localhost:8080/"
        },
        "outputId": "7eb12b71-46ed-4a4b-b1b6-ee2a2598501c"
      },
      "execution_count": 21,
      "outputs": [
        {
          "output_type": "stream",
          "name": "stdout",
          "text": [
            "Model: \"model_1\"\n",
            "_________________________________________________________________\n",
            " Layer (type)                Output Shape              Param #   \n",
            "=================================================================\n",
            " input_1 (InputLayer)        [(None, 5)]               0         \n",
            "                                                                 \n",
            " embedding_1 (Embedding)     (None, 5, 128)            51200640  \n",
            "                                                                 \n",
            " bidirectional (Bidirection  (None, 5, 256)            263168    \n",
            " al)                                                             \n",
            "                                                                 \n",
            " bidirectional_1 (Bidirecti  (None, 256)               394240    \n",
            " onal)                                                           \n",
            "                                                                 \n",
            " dense_1 (Dense)             (None, 8)                 2056      \n",
            "                                                                 \n",
            "=================================================================\n",
            "Total params: 51860104 (197.83 MB)\n",
            "Trainable params: 51860104 (197.83 MB)\n",
            "Non-trainable params: 0 (0.00 Byte)\n",
            "_________________________________________________________________\n"
          ]
        }
      ]
    },
    {
      "cell_type": "code",
      "source": [
        "# The rest of your code remains the same\n",
        "print(\"Final training loss: {:.4f}\".format(history_3.history['loss'][-1]))\n",
        "print(\"Final validation loss: {:.4f}\".format(history_3.history['val_loss'][-1]))\n",
        "print(\"Final training accuracy: {:.4f}\".format(history_3.history['accuracy'][-1]))\n",
        "print(\"Final validation accuracy: {:.4f}\".format(history_3.history['val_accuracy'][-1]))\n",
        "print(\"Final test accuracy: {:.4f}\".format(model_3.evaluate(X_test, y_test)[1]))\n",
        "print(\"Final test loss: {:.4f}\".format(model_3.evaluate(X_test, y_test)[0]))\n",
        "print(\"Final test f1 score: {:.4f}\".format(precision_recall_fscore_support(y_test, y_pred, average='weighted')[2]))\n",
        "print(\"Final test precision: {:.4f}\".format(precision_recall_fscore_support(y_test, y_pred, average='weighted')[0]))\n",
        "print(\"Final test recall: {:.4f}\".format(precision_recall_fscore_support(y_test, y_pred, average='weighted')[1]))"
      ],
      "metadata": {
        "id": "1o7hm-OqvfQ7",
        "colab": {
          "base_uri": "https://localhost:8080/"
        },
        "outputId": "e024c225-df17-439d-e422-80812e902992"
      },
      "execution_count": 22,
      "outputs": [
        {
          "output_type": "stream",
          "name": "stdout",
          "text": [
            "Final training loss: 0.1114\n",
            "Final validation loss: 0.3585\n",
            "Final training accuracy: 0.9615\n",
            "Final validation accuracy: 0.9071\n",
            "1452/1452 [==============================] - 37s 25ms/step - loss: 0.4179 - accuracy: 0.8899\n",
            "Final test accuracy: 0.8899\n",
            "1452/1452 [==============================] - 31s 22ms/step - loss: 0.4179 - accuracy: 0.8899\n",
            "Final test loss: 0.4179\n",
            "Final test f1 score: 0.8898\n",
            "Final test precision: 0.8904\n",
            "Final test recall: 0.8899\n"
          ]
        },
        {
          "output_type": "stream",
          "name": "stderr",
          "text": [
            "/usr/local/lib/python3.10/dist-packages/sklearn/metrics/_classification.py:1344: UndefinedMetricWarning: Precision and F-score are ill-defined and being set to 0.0 in labels with no predicted samples. Use `zero_division` parameter to control this behavior.\n",
            "  _warn_prf(average, modifier, msg_start, len(result))\n",
            "/usr/local/lib/python3.10/dist-packages/sklearn/metrics/_classification.py:1344: UndefinedMetricWarning: Precision and F-score are ill-defined and being set to 0.0 in labels with no predicted samples. Use `zero_division` parameter to control this behavior.\n",
            "  _warn_prf(average, modifier, msg_start, len(result))\n",
            "/usr/local/lib/python3.10/dist-packages/sklearn/metrics/_classification.py:1344: UndefinedMetricWarning: Precision and F-score are ill-defined and being set to 0.0 in labels with no predicted samples. Use `zero_division` parameter to control this behavior.\n",
            "  _warn_prf(average, modifier, msg_start, len(result))\n"
          ]
        }
      ]
    },
    {
      "cell_type": "code",
      "source": [
        "import time\n",
        "import numpy as np\n",
        "\n",
        "# Measure inference time for 10 iterations\n",
        "inference_times = []\n",
        "for _ in range(10):\n",
        "    start_time = time.time()\n",
        "    model_3.predict(X_test)\n",
        "    end_time = time.time()\n",
        "    inference_times.append(end_time - start_time)\n",
        "\n",
        "average_inference_time = np.mean(inference_times)\n",
        "print(f\"Average inference time over 10 iterations: {average_inference_time:.4f} seconds\")\n",
        "\n",
        "# Size of model in mb\n",
        "model_size = model_3.count_params()\n",
        "model_size_mb = model_size / (1024 * 1024)\n",
        "print(\"Model size in MB:\", model_size_mb)"
      ],
      "metadata": {
        "id": "SpmdtA_ivfO7",
        "colab": {
          "base_uri": "https://localhost:8080/"
        },
        "outputId": "27487fd5-c241-4779-d17c-5044f7157eb6"
      },
      "execution_count": 23,
      "outputs": [
        {
          "output_type": "stream",
          "name": "stdout",
          "text": [
            "1452/1452 [==============================] - 32s 22ms/step\n",
            "1452/1452 [==============================] - 37s 25ms/step\n",
            "1452/1452 [==============================] - 28s 19ms/step\n",
            "1452/1452 [==============================] - 28s 19ms/step\n",
            "1452/1452 [==============================] - 36s 25ms/step\n",
            "1452/1452 [==============================] - 32s 22ms/step\n",
            "1452/1452 [==============================] - 27s 18ms/step\n",
            "1452/1452 [==============================] - 28s 19ms/step\n",
            "1452/1452 [==============================] - 34s 23ms/step\n",
            "1452/1452 [==============================] - 37s 25ms/step\n",
            "Average inference time over 10 iterations: 40.0588 seconds\n",
            "Model size in MB: 49.45764923095703\n"
          ]
        }
      ]
    }
  ],
  "metadata": {
    "colab": {
      "provenance": [],
      "gpuType": "T4"
    },
    "kernelspec": {
      "display_name": "Python 3",
      "name": "python3"
    },
    "language_info": {
      "name": "python"
    },
    "accelerator": "GPU"
  },
  "nbformat": 4,
  "nbformat_minor": 0
}